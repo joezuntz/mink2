{
 "cells": [
  {
   "cell_type": "markdown",
   "metadata": {},
   "source": [
    "## Using one galaxy bias value -> one clustering map, one lensing map"
   ]
  },
  {
   "cell_type": "code",
   "execution_count": 1,
   "metadata": {},
   "outputs": [
    {
     "name": "stdout",
     "output_type": "stream",
     "text": [
      "Populating the interactive namespace from numpy and matplotlib\n"
     ]
    }
   ],
   "source": [
    "%pylab inline"
   ]
  },
  {
   "cell_type": "code",
   "execution_count": 2,
   "metadata": {},
   "outputs": [],
   "source": [
    "import pyccl\n",
    "import healpy as hp\n",
    "import numpy as np\n",
    "import matplotlib.pyplot as plt\n",
    "import math\n",
    "import os\n",
    "\n",
    "from coefficient import *\n",
    "\n",
    "import sys\n",
    "sys.path.append(\"./simulation_code/\")\n",
    "#from simulate_des_maps \n",
    "import simulate_des_maps as des"
   ]
  },
  {
   "cell_type": "code",
   "execution_count": 7,
   "metadata": {},
   "outputs": [
    {
     "name": "stdout",
     "output_type": "stream",
     "text": [
      "CPU times: user 57.8 s, sys: 923 ms, total: 58.7 s\n",
      "Wall time: 1min 41s\n"
     ]
    },
    {
     "ename": "NameError",
     "evalue": "name 'clustering_maps' is not defined",
     "output_type": "error",
     "traceback": [
      "\u001b[0;31m---------------------------------------------------------------------------\u001b[0m",
      "\u001b[0;31mNameError\u001b[0m                                 Traceback (most recent call last)",
      "\u001b[0;32m<timed eval>\u001b[0m in \u001b[0;36m<module>\u001b[0;34m\u001b[0m\n",
      "\u001b[0;32m<ipython-input-7-d3c1bf82a368>\u001b[0m in \u001b[0;36mconst_pwr\u001b[0;34m(thr_ct, smoothing, nside)\u001b[0m\n\u001b[1;32m      9\u001b[0m     \u001b[0;31m# there is an issue with this line only when it is inside this function\u001b[0m\u001b[0;34m\u001b[0m\u001b[0;34m\u001b[0m\u001b[0;34m\u001b[0m\u001b[0m\n\u001b[1;32m     10\u001b[0m     \u001b[0mget_ipython\u001b[0m\u001b[0;34m(\u001b[0m\u001b[0;34m)\u001b[0m\u001b[0;34m.\u001b[0m\u001b[0mrun_line_magic\u001b[0m\u001b[0;34m(\u001b[0m\u001b[0;34m'time'\u001b[0m\u001b[0;34m,\u001b[0m \u001b[0;34m'clustering_maps, lensing_maps = simulate_des_maps(0.3, 0.8, smoothing, nside)'\u001b[0m\u001b[0;34m)\u001b[0m\u001b[0;34m\u001b[0m\u001b[0;34m\u001b[0m\u001b[0m\n\u001b[0;32m---> 11\u001b[0;31m     \u001b[0mprint\u001b[0m\u001b[0;34m(\u001b[0m\u001b[0mclustering_maps\u001b[0m\u001b[0;34m,\u001b[0m\u001b[0mlensing_maps\u001b[0m\u001b[0;34m)\u001b[0m\u001b[0;34m\u001b[0m\u001b[0;34m\u001b[0m\u001b[0m\n\u001b[0m\u001b[1;32m     12\u001b[0m \u001b[0;34m\u001b[0m\u001b[0m\n\u001b[1;32m     13\u001b[0m     \u001b[0mget_ipython\u001b[0m\u001b[0;34m(\u001b[0m\u001b[0;34m)\u001b[0m\u001b[0;34m.\u001b[0m\u001b[0mrun_line_magic\u001b[0m\u001b[0;34m(\u001b[0m\u001b[0;34m'time'\u001b[0m\u001b[0;34m,\u001b[0m \u001b[0;34m'v_fixed_c, v0_fixed_c, v1_fixed_c, v2_fixed_c = calc_mf(clustering_maps[0],thr_ct,N,True)'\u001b[0m\u001b[0;34m)\u001b[0m\u001b[0;34m\u001b[0m\u001b[0;34m\u001b[0m\u001b[0m\n",
      "\u001b[0;31mNameError\u001b[0m: name 'clustering_maps' is not defined"
     ]
    }
   ],
   "source": [
    "def const_pwr(thr_ct,smoothing,nside):\n",
    "\n",
    "    ### FIXED ###\n",
    "        \n",
    "    N = 12*nside**2\n",
    "\n",
    "    # fixed parameter maps\n",
    "        \n",
    "    # there is an issue with this line only when it is inside this function\n",
    "    %time clustering_maps, lensing_maps = simulate_des_maps(0.3, 0.8, smoothing, nside)\n",
    "    print(clustering_maps,lensing_maps)\n",
    "        \n",
    "    %time v_fixed_c, v0_fixed_c, v1_fixed_c, v2_fixed_c = calc_mf(clustering_maps[0],thr_ct,N,True)\n",
    "    %time v_fixed_l, v0_fixed_l, v1_fixed_l, v2_fixed_l = calc_mf(lensing_maps[0],thr_ct,N,False)\n",
    "\n",
    "\n",
    "    # combine fixed clustering and lensing maps\n",
    "    v_fixed = np.vstack((v_fixed_c,v_fixed_l))\n",
    "    v0_fixed = np.vstack((v0_fixed_c,v0_fixed_l))\n",
    "    v1_fixed = np.vstack((v1_fixed_c,v1_fixed_l))\n",
    "    v2_fixed = np.vstack((v2_fixed_c,v2_fixed_l))\n",
    "\n",
    "    # mean per threshold value\n",
    "    mean_v0 = np.zeros(thr_ct)\n",
    "    mean_v1 = np.zeros(thr_ct)\n",
    "    mean_v2 = np.zeros(thr_ct)\n",
    "\n",
    "    for i in range(0,thr_ct):\n",
    "        mean_v0[i] = mean(v0_fixed[:,i])\n",
    "        mean_v1[i] = mean(v1_fixed[:,i])\n",
    "        mean_v2[i] = mean(v2_fixed[:,i])\n",
    "\n",
    "    # used to find likelihood\n",
    "    mean_array = np.append(np.append(mean_v0,mean_v1),mean_v2)\n",
    "\n",
    "    # used to find covariance\n",
    "    v_all_mean = np.hstack((v0_fixed,v1_fixed,v2_fixed))\n",
    "\n",
    "    # covariance\n",
    "    cov = np.cov((v_all_mean.transpose()))\n",
    "\n",
    "\n",
    "    ### CHANGING ###\n",
    "\n",
    "    b=10\n",
    "    omega_m = np.linspace(0.2,0.4,b)\n",
    "    sigma_8 = (0.8989639361571576)*omega_m + 0.5303108191528527\n",
    "\n",
    "    v_c = np.zeros((b,thr_ct))\n",
    "    v0_c = np.zeros((b,thr_ct))\n",
    "    v1_c = np.zeros((b,thr_ct))\n",
    "    v2_c = np.zeros((b,thr_ct))\n",
    "\n",
    "    v_l = np.zeros((b,thr_ct))\n",
    "    v0_l = np.zeros((b,thr_ct))\n",
    "    v1_l = np.zeros((b,thr_ct))\n",
    "    v2_l = np.zeros((b,thr_ct))\n",
    "\n",
    "    # build maps for varying values of omega and sigma\n",
    "    for i in range(b):\n",
    "        c_map,l_map = simulate_des_maps(omega_m[i], sigma_8[i], smoothing, nside)\n",
    "        v_c[i], v0_c[i], v1_c[i], v2_c[i] = calc_mf(c_map[0],thr_ct,N,True)\n",
    "        v_l[i], v0_l[i], v1_l[i], v2_l[i] = calc_mf(l_map[0],thr_ct,N,False)\n",
    "        print(i)\n",
    "\n",
    "    # combine clustering and lensing arrays    \n",
    "    v = np.vstack((v_c,v_l))\n",
    "    v0 = np.vstack((v0_c,v0_l))\n",
    "    v1 = np.vstack((v1_c,v1_l))\n",
    "    v2 = np.vstack((v2_c,v2_l))\n",
    "\n",
    "    # combine MF arrays into one to be used in likelihood calculation\n",
    "    v_all = np.hstack((v0,v1,v2))\n",
    "\n",
    "    # calculate S_8\n",
    "    S_8 = np.zeros(b)\n",
    "    for i in range(b):\n",
    "        S_8[i] = sigma_8[i] * (omega_m[i]/0.3)**0.5329788249790618\n",
    "\n",
    "    # add noise to covariance (only used if necessary)\n",
    "    cov_w_noise = cov\n",
    "    for i in range(30):\n",
    "        for j in range(30):\n",
    "            cov_w_noise[i][j] = cov[i][j] + np.random.random()*0.0001\n",
    "\n",
    "    # calculate the likelihood          \n",
    "    L = np.zeros(b)\n",
    "    try:\n",
    "        for i in range(b):\n",
    "            L[i] = -0.5 * (v_all[i] - mean_array) @ np.linalg.inv(cov) @ (v_all[i] - mean_array)  \n",
    "    except:\n",
    "        for i in range(b):\n",
    "            L[i] = -0.5 * (v_all[i] - mean_array) @ np.linalg.inv(cov_w_noise) @ (v_all[i] - mean_array)\n",
    "\n",
    "    # calculate the constraining power\n",
    "    coefficient = np.polyfit(S_8,L,2)\n",
    "\n",
    "        # plot if desired\n",
    "        #poly = np.poly1d(coefficient)     \n",
    "        #new_x = np.linspace(0.5,1.1,20)\n",
    "        #new_y = poly(new_x)\n",
    "        #plt.plot(S_8, L, \".\", new_x, new_y);\n",
    "\n",
    "    constraining_power = np.sqrt(-1 / (2*coefficient[0]))\n",
    "    \n",
    "    # save data\n",
    "    c = np.array((thr_ct,smoothing,nside,constraining_power))\n",
    "    \n",
    "    # parent directory\n",
    "    output_path = os.path.join(os.getcwd(), '2_Maps_Faster_Output')\n",
    "    \n",
    "    # path for given inputs\n",
    "    path = os.path.join(output_path, f't{thr_ct}_n{nside}_s{smoothing}')\n",
    "    \n",
    "    # check whether directory exists    \n",
    "    if os.path.isdir(path) is False:\n",
    "        \n",
    "        # make new directory\n",
    "        os.mkdir(path) \n",
    "        \n",
    "    np.savetxt(os.path.join(path, 'c.out'),c)\n",
    "    \n",
    "    return constraining_power\n",
    "    \n",
    "%time const_pwr(thr_ct=10,smoothing=5,nside=256)"
   ]
  },
  {
   "cell_type": "code",
   "execution_count": 6,
   "metadata": {},
   "outputs": [
    {
     "name": "stdout",
     "output_type": "stream",
     "text": [
      "CPU times: user 59.6 s, sys: 673 ms, total: 1min\n",
      "Wall time: 1min 39s\n"
     ]
    },
    {
     "ename": "NameError",
     "evalue": "name 'clustering_maps' is not defined",
     "output_type": "error",
     "traceback": [
      "\u001b[0;31m---------------------------------------------------------------------------\u001b[0m",
      "\u001b[0;31mNameError\u001b[0m                                 Traceback (most recent call last)",
      "\u001b[0;32m<timed eval>\u001b[0m in \u001b[0;36m<module>\u001b[0;34m\u001b[0m\n",
      "\u001b[0;32m<ipython-input-6-846dcdc85fd0>\u001b[0m in \u001b[0;36mconst_pwr\u001b[0;34m(thr_ct, smoothing, nside)\u001b[0m\n\u001b[1;32m     21\u001b[0m         \u001b[0;31m# there is an issue with this line only when it is inside this function\u001b[0m\u001b[0;34m\u001b[0m\u001b[0;34m\u001b[0m\u001b[0;34m\u001b[0m\u001b[0m\n\u001b[1;32m     22\u001b[0m         \u001b[0mget_ipython\u001b[0m\u001b[0;34m(\u001b[0m\u001b[0;34m)\u001b[0m\u001b[0;34m.\u001b[0m\u001b[0mrun_line_magic\u001b[0m\u001b[0;34m(\u001b[0m\u001b[0;34m'time'\u001b[0m\u001b[0;34m,\u001b[0m \u001b[0;34m'clustering_maps, lensing_maps = simulate_des_maps(0.3, 0.8, smoothing, nside)'\u001b[0m\u001b[0;34m)\u001b[0m\u001b[0;34m\u001b[0m\u001b[0;34m\u001b[0m\u001b[0m\n\u001b[0;32m---> 23\u001b[0;31m         \u001b[0mprint\u001b[0m\u001b[0;34m(\u001b[0m\u001b[0mclustering_maps\u001b[0m\u001b[0;34m,\u001b[0m\u001b[0mlensing_maps\u001b[0m\u001b[0;34m)\u001b[0m\u001b[0;34m\u001b[0m\u001b[0;34m\u001b[0m\u001b[0m\n\u001b[0m\u001b[1;32m     24\u001b[0m \u001b[0;34m\u001b[0m\u001b[0m\n\u001b[1;32m     25\u001b[0m         \u001b[0mget_ipython\u001b[0m\u001b[0;34m(\u001b[0m\u001b[0;34m)\u001b[0m\u001b[0;34m.\u001b[0m\u001b[0mrun_line_magic\u001b[0m\u001b[0;34m(\u001b[0m\u001b[0;34m'time'\u001b[0m\u001b[0;34m,\u001b[0m \u001b[0;34m'v_fixed_c, v0_fixed_c, v1_fixed_c, v2_fixed_c = calc_mf(clustering_maps[0],thr_ct,N,True)'\u001b[0m\u001b[0;34m)\u001b[0m\u001b[0;34m\u001b[0m\u001b[0;34m\u001b[0m\u001b[0m\n",
      "\u001b[0;31mNameError\u001b[0m: name 'clustering_maps' is not defined"
     ]
    }
   ],
   "source": [
    "def const_pwr(thr_ct,smoothing,nside):\n",
    "    \n",
    "    # parent directory\n",
    "    output_path = os.path.join(os.getcwd(), '2_Maps_Faster_Output')\n",
    "    \n",
    "    # path for given inputs\n",
    "    path = os.path.join(output_path, f't{thr_ct}_n{nside}_s{smoothing}')\n",
    "    \n",
    "    # check whether directory exists    \n",
    "    if os.path.isdir(path) is False:\n",
    "        \n",
    "        # make new directory\n",
    "        os.mkdir(path) \n",
    "\n",
    "        ### FIXED ###\n",
    "        \n",
    "        N = 12*nside**2\n",
    "\n",
    "        # fixed parameter maps\n",
    "        \n",
    "        # there is an issue with this line only when it is inside this function\n",
    "        %time clustering_maps, lensing_maps = simulate_des_maps(0.3, 0.8, smoothing, nside)\n",
    "        print(clustering_maps,lensing_maps)\n",
    "        \n",
    "        %time v_fixed_c, v0_fixed_c, v1_fixed_c, v2_fixed_c = calc_mf(clustering_maps[0],thr_ct,N,True)\n",
    "        %time v_fixed_l, v0_fixed_l, v1_fixed_l, v2_fixed_l = calc_mf(lensing_maps[0],thr_ct,N,False)\n",
    "\n",
    "\n",
    "        # combine fixed clustering and lensing maps\n",
    "        v_fixed = np.vstack((v_fixed_c,v_fixed_l))\n",
    "        v0_fixed = np.vstack((v0_fixed_c,v0_fixed_l))\n",
    "        v1_fixed = np.vstack((v1_fixed_c,v1_fixed_l))\n",
    "        v2_fixed = np.vstack((v2_fixed_c,v2_fixed_l))\n",
    "\n",
    "        # mean per threshold value\n",
    "        mean_v0 = np.zeros(thr_ct)\n",
    "        mean_v1 = np.zeros(thr_ct)\n",
    "        mean_v2 = np.zeros(thr_ct)\n",
    "\n",
    "        for i in range(0,thr_ct):\n",
    "            mean_v0[i] = mean(v0_fixed[:,i])\n",
    "            mean_v1[i] = mean(v1_fixed[:,i])\n",
    "            mean_v2[i] = mean(v2_fixed[:,i])\n",
    "\n",
    "        # used to find likelihood\n",
    "        mean_array = np.append(np.append(mean_v0,mean_v1),mean_v2)\n",
    "\n",
    "        # used to find covariance\n",
    "        v_all_mean = np.hstack((v0_fixed,v1_fixed,v2_fixed))\n",
    "\n",
    "        # covariance\n",
    "        cov = np.cov((v_all_mean.transpose()))\n",
    "\n",
    "\n",
    "        ### CHANGING ###\n",
    "\n",
    "        b=10\n",
    "        omega_m = np.linspace(0.2,0.4,b)\n",
    "        sigma_8 = (0.8989639361571576)*omega_m + 0.5303108191528527\n",
    "\n",
    "        v_c = np.zeros((b,thr_ct))\n",
    "        v0_c = np.zeros((b,thr_ct))\n",
    "        v1_c = np.zeros((b,thr_ct))\n",
    "        v2_c = np.zeros((b,thr_ct))\n",
    "\n",
    "        v_l = np.zeros((b,thr_ct))\n",
    "        v0_l = np.zeros((b,thr_ct))\n",
    "        v1_l = np.zeros((b,thr_ct))\n",
    "        v2_l = np.zeros((b,thr_ct))\n",
    "\n",
    "        # build maps for varying values of omega and sigma\n",
    "        for i in range(b):\n",
    "            c_map,l_map = simulate_des_maps(omega_m[i], sigma_8[i], smoothing, nside)\n",
    "            v_c[i], v0_c[i], v1_c[i], v2_c[i] = calc_mf(c_map[0],thr_ct,N,True)\n",
    "            v_l[i], v0_l[i], v1_l[i], v2_l[i] = calc_mf(l_map[0],thr_ct,N,False)\n",
    "            print(i)\n",
    "\n",
    "        # combine clustering and lensing arrays    \n",
    "        v = np.vstack((v_c,v_l))\n",
    "        v0 = np.vstack((v0_c,v0_l))\n",
    "        v1 = np.vstack((v1_c,v1_l))\n",
    "        v2 = np.vstack((v2_c,v2_l))\n",
    "\n",
    "        # combine MF arrays into one to be used in likelihood calculation\n",
    "        v_all = np.hstack((v0,v1,v2))\n",
    "\n",
    "        # calculate S_8\n",
    "        S_8 = np.zeros(b)\n",
    "        for i in range(b):\n",
    "            S_8[i] = sigma_8[i] * (omega_m[i]/0.3)**0.5329788249790618\n",
    "\n",
    "        # add noise to covariance (only used if necessary)\n",
    "        cov_w_noise = cov\n",
    "        for i in range(30):\n",
    "            for j in range(30):\n",
    "                cov_w_noise[i][j] = cov[i][j] + np.random.random()*0.0001\n",
    "\n",
    "        # calculate the likelihood          \n",
    "        L = np.zeros(b)\n",
    "        try:\n",
    "            for i in range(b):\n",
    "                L[i] = -0.5 * (v_all[i] - mean_array) @ np.linalg.inv(cov) @ (v_all[i] - mean_array)  \n",
    "        except:\n",
    "            for i in range(b):\n",
    "                L[i] = -0.5 * (v_all[i] - mean_array) @ np.linalg.inv(cov_w_noise) @ (v_all[i] - mean_array)\n",
    "\n",
    "        # calculate the constraining power\n",
    "        coefficient = np.polyfit(S_8,L,2)\n",
    "\n",
    "        # plot if desired\n",
    "        #poly = np.poly1d(coefficient)     \n",
    "        #new_x = np.linspace(0.5,1.1,20)\n",
    "        #new_y = poly(new_x)\n",
    "        #plt.plot(S_8, L, \".\", new_x, new_y);\n",
    "\n",
    "        constraining_power = np.sqrt(-1 / (2*coefficient[0]))\n",
    "    \n",
    "        # save data\n",
    "        c = np.array((thr_ct,smoothing,nside,constraining_power))\n",
    "        np.savetxt(os.path.join(path, 'c.out'),c)\n",
    "    \n",
    "        return constraining_power\n",
    "    \n",
    "%time const_pwr(thr_ct=10,smoothing=5,nside=256)"
   ]
  },
  {
   "cell_type": "markdown",
   "metadata": {},
   "source": [
    "### Steps done individually"
   ]
  },
  {
   "cell_type": "code",
   "execution_count": 12,
   "metadata": {},
   "outputs": [],
   "source": [
    "# total number of pixels in the image\n",
    "thr_ct = 10\n",
    "nside = 512\n",
    "smoothing=35\n",
    "\n",
    "N = 12*nside**2"
   ]
  },
  {
   "cell_type": "code",
   "execution_count": 13,
   "metadata": {},
   "outputs": [
    {
     "name": "stdout",
     "output_type": "stream",
     "text": [
      "CPU times: user 2min 39s, sys: 4.7 s, total: 2min 43s\n",
      "Wall time: 3min 6s\n",
      "CPU times: user 54.5 s, sys: 575 ms, total: 55 s\n",
      "Wall time: 34.4 s\n",
      "CPU times: user 53 s, sys: 507 ms, total: 53.5 s\n",
      "Wall time: 32.9 s\n"
     ]
    }
   ],
   "source": [
    "# fixed parameter maps\n",
    "%time clustering_maps, lensing_maps = simulate_des_maps(0.3, 0.8, smoothing, nside)\n",
    "%time v_fixed_c, v0_fixed_c, v1_fixed_c, v2_fixed_c = calc_mf(clustering_maps[0],thr_ct,N,True)\n",
    "%time v_fixed_l, v0_fixed_l, v1_fixed_l, v2_fixed_l = calc_mf(lensing_maps[0],thr_ct,N,False)"
   ]
  },
  {
   "cell_type": "code",
   "execution_count": 14,
   "metadata": {},
   "outputs": [],
   "source": [
    "# combine clustering and lensing maps\n",
    "v_fixed = np.vstack((v_fixed_c,v_fixed_l))\n",
    "v0_fixed = np.vstack((v0_fixed_c,v0_fixed_l))\n",
    "v1_fixed = np.vstack((v1_fixed_c,v1_fixed_l))\n",
    "v2_fixed = np.vstack((v2_fixed_c,v2_fixed_l))\n",
    "\n",
    "# mean per threshold value\n",
    "mean_v0 = np.zeros(thr_ct)\n",
    "mean_v1 = np.zeros(thr_ct)\n",
    "mean_v2 = np.zeros(thr_ct)\n",
    "\n",
    "for i in range(0,thr_ct):\n",
    "    mean_v0[i] = mean(v0_fixed[:,i])\n",
    "    mean_v1[i] = mean(v1_fixed[:,i])\n",
    "    mean_v2[i] = mean(v2_fixed[:,i])\n",
    "\n",
    "# used to find likelihood\n",
    "mean_array = np.append(np.append(mean_v0,mean_v1),mean_v2)\n",
    "\n",
    "# used to find covariance\n",
    "#v_all_mean = np.concatenate((v0_fixed,v1_fixed,v2_fixed))\n",
    "v_all_mean = np.hstack((v0_fixed,v1_fixed,v2_fixed))\n",
    "\n",
    "# covariance\n",
    "cov = np.cov((v_all_mean.transpose()))"
   ]
  },
  {
   "cell_type": "code",
   "execution_count": 15,
   "metadata": {},
   "outputs": [],
   "source": [
    "b=10\n",
    "perpendicular_slope = 0.8989639361571576\n",
    "y_intercept = 0.5303108191528527\n",
    "\n",
    "omega_m = np.linspace(0.2,0.4,b)\n",
    "sigma_8 = perpendicular_slope*omega_m + y_intercept"
   ]
  },
  {
   "cell_type": "code",
   "execution_count": 16,
   "metadata": {},
   "outputs": [
    {
     "name": "stdout",
     "output_type": "stream",
     "text": [
      "0\n",
      "1\n",
      "2\n",
      "3\n",
      "4\n",
      "5\n",
      "6\n",
      "7\n",
      "8\n",
      "9\n"
     ]
    }
   ],
   "source": [
    "v_c = np.zeros((b,thr_ct))\n",
    "v0_c = np.zeros((b,thr_ct))\n",
    "v1_c = np.zeros((b,thr_ct))\n",
    "v2_c = np.zeros((b,thr_ct))\n",
    "\n",
    "v_l = np.zeros((b,thr_ct))\n",
    "v0_l = np.zeros((b,thr_ct))\n",
    "v1_l = np.zeros((b,thr_ct))\n",
    "v2_l = np.zeros((b,thr_ct))\n",
    "\n",
    "#c_map = np.zeros((b,len(clustering_maps),N)) \n",
    "#l_map = np.zeros((b,len(lensing_maps),N))\n",
    "\n",
    "for i in range(b):\n",
    "    #c_map[i],l_map[i] = simulate_des_maps(omega_m[i], sigma_8[i], smoothing, nside)\n",
    "    #v[i],v0[i],v1[i],v2[i] = calc_mf_2maps(c_map[i][0],l_map[i][0],thr_ct,N)\n",
    "    \n",
    "    c_map,l_map = simulate_des_maps(omega_m[i], sigma_8[i], smoothing, nside)\n",
    "    v_c[i], v0_c[i], v1_c[i], v2_c[i] = calc_mf(c_map[0],thr_ct,N,True)\n",
    "    v_l[i], v0_l[i], v1_l[i], v2_l[i] = calc_mf(l_map[0],thr_ct,N,False)\n",
    "    \n",
    "    print(i)\n"
   ]
  },
  {
   "cell_type": "code",
   "execution_count": 17,
   "metadata": {},
   "outputs": [],
   "source": [
    "v = np.vstack((v_c,v_l))\n",
    "v0 = np.vstack((v0_c,v0_l))\n",
    "v1 = np.vstack((v1_c,v1_l))\n",
    "v2 = np.vstack((v2_c,v2_l))\n",
    "\n",
    "#v_all = np.concatenate((np.concatenate(v0),np.concatenate(v1),np.concatenate(v2)),axis=1)\n",
    "v_all = np.hstack((v0,v1,v2))"
   ]
  },
  {
   "cell_type": "code",
   "execution_count": 18,
   "metadata": {},
   "outputs": [],
   "source": [
    "S_8 = np.zeros(b)\n",
    "for i in range(b):\n",
    "    S_8[i] = sigma_8[i] * (omega_m[i]/0.3)**0.5329788249790618  # exponent value found in plotting notebook        "
   ]
  },
  {
   "cell_type": "code",
   "execution_count": 19,
   "metadata": {},
   "outputs": [],
   "source": [
    "# add noise to covariance\n",
    "cov_w_noise = cov\n",
    "for i in range(30):\n",
    "    for j in range(30):\n",
    "        cov_w_noise[i][j] = cov[i][j] + np.random.random()*0.0001\n",
    "    \n",
    "# calculate the likelihood          \n",
    "L = np.zeros(b)\n",
    "try:\n",
    "    for i in range(b):\n",
    "        L[i] = -0.5 * (v_all[i] - mean_array) @ np.linalg.inv(cov) @ (v_all[i] - mean_array)  \n",
    "except:\n",
    "    for i in range(b):\n",
    "        L[i] = -0.5 * (v_all[i] - mean_array) @ np.linalg.inv(cov_w_noise) @ (v_all[i] - mean_array)"
   ]
  },
  {
   "cell_type": "code",
   "execution_count": 20,
   "metadata": {},
   "outputs": [
    {
     "data": {
      "image/png": "[encoded data removed]",
      "text/plain": [
       "<Figure size 432x288 with 1 Axes>"
      ]
     },
     "metadata": {
      "needs_background": "light"
     },
     "output_type": "display_data"
    }
   ],
   "source": [
    "coefficient = np.polyfit(S_8,L,2)\n",
    "poly = np.poly1d(coefficient)     \n",
    "new_x = np.linspace(0.5,1.1,20)\n",
    "new_y = poly(new_x)\n",
    "plt.plot(S_8, L, \".\", new_x, new_y);"
   ]
  },
  {
   "cell_type": "code",
   "execution_count": 21,
   "metadata": {},
   "outputs": [
    {
     "name": "stderr",
     "output_type": "stream",
     "text": [
      "/opt/conda/lib/python3.7/site-packages/ipykernel_launcher.py:1: RuntimeWarning: invalid value encountered in sqrt\n",
      "  \"\"\"Entry point for launching an IPython kernel.\n"
     ]
    },
    {
     "data": {
      "text/plain": [
       "nan"
      ]
     },
     "execution_count": 21,
     "metadata": {},
     "output_type": "execute_result"
    }
   ],
   "source": [
    "constraining_power = sqrt(-1 / (2*coefficient[0]))\n",
    "constraining_power"
   ]
  },
  {
   "cell_type": "code",
   "execution_count": 22,
   "metadata": {},
   "outputs": [],
   "source": [
    "# save data\n",
    "\n",
    "# parent directory\n",
    "output_path = os.path.join(os.getcwd(), '2_Maps_Faster_Output')\n",
    "    \n",
    "# path for given inputs\n",
    "path = os.path.join(output_path, f't{thr_ct}_n{nside}_s{smoothing}')\n",
    "\n",
    "try:\n",
    "    os.mkdir(path) \n",
    "except:\n",
    "    pass\n",
    "\n",
    "c = np.array((thr_ct,smoothing,nside,constraining_power))\n",
    "np.savetxt(os.path.join(path, 'c.out'),c)"
   ]
  },
  {
   "cell_type": "code",
   "execution_count": 23,
   "metadata": {},
   "outputs": [
    {
     "data": {
      "text/plain": [
       "array([1.44043357e-05, 1.44043357e-05,            nan,            nan,\n",
       "       8.03731016e-05,            nan])"
      ]
     },
     "execution_count": 23,
     "metadata": {},
     "output_type": "execute_result"
    }
   ],
   "source": [
    "# plot smoothing vs. constraining power\n",
    "smoothing_array = [10,15,20,25,30,35]#np.linspace(5,60,12)\n",
    "thr_ct = 10\n",
    "nside = 512\n",
    "c = np.zeros(len(smoothing_array))\n",
    "\n",
    "# parent directory\n",
    "output_path = os.path.join(os.getcwd(), '2_Maps_Faster_Output')\n",
    "    \n",
    "#for i in smoothing_array:\n",
    "for i,smoothing in enumerate(smoothing_array):\n",
    "    path = os.path.join(output_path, f't{thr_ct}_n{nside}_s{smoothing}')\n",
    "    output = np.loadtxt(os.path.join(path, 'c.out'))\n",
    "    c[i] = output[3]\n",
    "    \n",
    "c"
   ]
  },
  {
   "cell_type": "code",
   "execution_count": 24,
   "metadata": {},
   "outputs": [
    {
     "data": {
      "image/png": "[encoded data removed]",
      "text/plain": [
       "<Figure size 432x288 with 1 Axes>"
      ]
     },
     "metadata": {
      "needs_background": "light"
     },
     "output_type": "display_data"
    }
   ],
   "source": [
    "plt.plot(smoothing_array,c,'o')\n",
    "plt.xlabel('Smoothing')\n",
    "plt.xticks(smoothing_array)\n",
    "plt.ylabel('Constraining Power');"
   ]
  },
  {
   "cell_type": "markdown",
   "metadata": {},
   "source": [
    "---\n",
    "\n",
    "\n",
    "## pulling all data - using only the first lensing and clustering maps"
   ]
  },
  {
   "cell_type": "code",
   "execution_count": 60,
   "metadata": {},
   "outputs": [],
   "source": [
    "def simplified(thr_ct,smoothing,nside,map_len=2,b=10):\n",
    "        \n",
    "        \n",
    "    # load data with all 9 maps\n",
    "    output_path = os.path.join(os.getcwd(), '2_Maps_Output')\n",
    "    path = os.path.join(output_path, f't{thr_ct}_n{nside}_s{smoothing}')\n",
    "    v_input_f = np.loadtxt(os.path.join(path, 'v_all_fixed.out'))\n",
    "    v_input_c = np.loadtxt(os.path.join(path, 'v_all_changing'))\n",
    "    \n",
    "    \n",
    "    ## select columns from first clustering map and first lensing map - positions = 0,5 \n",
    "    # fixed maps\n",
    "    v_all_fixed1 = v_input_f[:,0:30]\n",
    "    v_all_fixed2 = v_input_f[:,150:180]\n",
    "    v_all_fixed = np.hstack((v_all_fixed1,v_all_fixed2))\n",
    "    \n",
    "    # changing maps\n",
    "    v_all_c1 = v_input_c[:,0:30]\n",
    "    v_all_c2 = v_input_c[:,150:180]\n",
    "    v_all_changing = np.hstack((v_all_c1,v_all_c2))\n",
    "    \n",
    "    \n",
    "    # stack 100 iteration fixed variable versions of V0,V1,V2\n",
    "    v_all_mean = np.zeros(array_len)\n",
    "    for i in range(array_len):\n",
    "        v_all_mean[i] = mean(v_all_fixed[:,i])\n",
    "        \n",
    "    # points (get constants from plotting notebook)\n",
    "    omega_m = np.linspace(0.2,0.4,b)\n",
    "    sigma_8 = 0.8989639361571576*omega_m + 0.5303108191528527\n",
    "\n",
    "    S_8 = np.zeros(b)\n",
    "    for i in range(b):\n",
    "        S_8[i] = sigma_8[i] * (omega_m[i]/0.3)**0.5329788249790618  \n",
    "        \n",
    "        \n",
    "    ## calculate covariance\n",
    "    cov = np.cov((v_all_fixed.transpose()))  \n",
    "    \n",
    "    # singular matrix workaround\n",
    "    good = cov.diagonal() > 0\n",
    "    cov2 = cov[good][:, good]\n",
    "\n",
    "    # calculate the likelihood          \n",
    "    L = np.zeros(b)\n",
    "\n",
    "    try:\n",
    "        inv_cov = np.linalg.inv(cov)\n",
    "        for i in range(b):\n",
    "            L[i] = -0.5 * (v_all_changing[i] - v_all_mean) @ inv_cov @ (v_all_changing[i] - v_all_mean)\n",
    "    except:\n",
    "        inv_cov2 = np.linalg.inv(cov2)\n",
    "        for i in range(b):\n",
    "            d = (v_all_changing[i] - v_all_mean)[good]\n",
    "            L[i] = -0.5 * d @ inv_cov2 @ d\n",
    "\n",
    "    # fit a quadratic curve to L(S_8)\n",
    "    coefficient = np.polyfit(S_8,L,2)\n",
    "    constraining_power = sqrt(-1 / (2*coefficient[0]))\n",
    "    print(constraining_power)\n",
    "    \n",
    "    # output array\n",
    "    c = np.array((thr_ct,smoothing,nside,constraining_power))\n",
    "\n",
    "    # save data in new subfolder\n",
    "    parent_path = os.path.join(output_path, 'Simplified')\n",
    "    sub_path = os.path.join(parent_path, f't{thr_ct}_n{nside}_s{smoothing}')\n",
    "\n",
    "    try:\n",
    "        os.mkdir(sub_path) \n",
    "    except:\n",
    "        pass\n",
    "\n",
    "    np.savetxt(os.path.join(sub_path, 'c.out'),c)\n",
    "    np.savetxt(os.path.join(sub_path, 'V_all_fixed.out'),v_all_fixed)\n",
    "    np.savetxt(os.path.join(sub_path, 'v_all_changing'),v_all_changing)"
   ]
  },
  {
   "cell_type": "code",
   "execution_count": 76,
   "metadata": {},
   "outputs": [
    {
     "name": "stdout",
     "output_type": "stream",
     "text": [
      "0.0022165069768558254\n"
     ]
    }
   ],
   "source": [
    "simplified(thr_ct=10,smoothing=40,nside=256)"
   ]
  },
  {
   "cell_type": "code",
   "execution_count": 79,
   "metadata": {},
   "outputs": [
    {
     "name": "stdout",
     "output_type": "stream",
     "text": [
      "0.0017846064933814657\n",
      "0.001681634355595141\n",
      "0.0015849383334117855\n",
      "0.0015086681451370319\n",
      "0.0018628262159073306\n",
      "0.0019847384230850143\n",
      "0.0022165069768558254\n",
      "0.0019204801069196452\n",
      "0.0024376928992628196\n",
      "0.002251057573176396\n",
      "0.0028135804488606457\n"
     ]
    }
   ],
   "source": [
    "# apply to smoothing data\n",
    "smoothing_array = np.linspace(10,60,11,dtype=int)\n",
    "thr_ct = 10\n",
    "nside = 256\n",
    "    \n",
    "#for i in smoothing_array:\n",
    "for s,smoothing in enumerate(smoothing_array):\n",
    "    simplified(thr_ct,smoothing,nside)"
   ]
  },
  {
   "cell_type": "code",
   "execution_count": 81,
   "metadata": {},
   "outputs": [
    {
     "name": "stdout",
     "output_type": "stream",
     "text": [
      "0.0015849383334117855\n",
      "0.014355754396371273\n",
      "0.001320642971915003\n"
     ]
    }
   ],
   "source": [
    "# apply to nside data\n",
    "nside_array = [256,512,1024]\n",
    "thr_ct = 10\n",
    "smoothing = 20\n",
    "\n",
    "for index,i in enumerate(nside_array):\n",
    "    simplified(thr_ct,smoothing,i)"
   ]
  },
  {
   "cell_type": "code",
   "execution_count": 45,
   "metadata": {},
   "outputs": [],
   "source": [
    "thr_ct = 10\n",
    "smoothing = 20\n",
    "map_len = 2\n",
    "array_len = map_len*thr_ct*3\n",
    "b = 10"
   ]
  },
  {
   "cell_type": "code",
   "execution_count": 57,
   "metadata": {},
   "outputs": [],
   "source": [
    "nside = 256\n",
    "\n",
    "output_path = os.path.join(os.getcwd(), '2_Maps_Output')\n",
    "path = os.path.join(output_path, f't{thr_ct}_n{nside}_s{smoothing}')\n",
    "\n",
    "v_input_f = np.loadtxt(os.path.join(path, 'v_all_fixed.out'))\n",
    "v_input_c = np.loadtxt(os.path.join(path, 'v_all_changing'))"
   ]
  },
  {
   "cell_type": "code",
   "execution_count": 38,
   "metadata": {},
   "outputs": [],
   "source": [
    "# select columns from first clustering map and first lensing map - positions = 0,5 \n",
    "v_all_fixed1 = v_input_f[:,0:30]\n",
    "v_all_fixed2 = v_input_f[:,150:180]\n",
    "v_all_fixed = np.hstack((v_all_fixed1,v_all_fixed2))"
   ]
  },
  {
   "cell_type": "code",
   "execution_count": 43,
   "metadata": {},
   "outputs": [],
   "source": [
    "cov = np.cov((v_all_fixed.transpose()))\n",
    "\n",
    "# stack 100 iteration fixed variable versions of V0,V1,V2\n",
    "v_all_mean = np.zeros(array_len)\n",
    "for i in range(array_len):\n",
    "    v_all_mean[i] = mean(v_all_fixed[:,i])"
   ]
  },
  {
   "cell_type": "code",
   "execution_count": 46,
   "metadata": {},
   "outputs": [],
   "source": [
    "# points (get constants from plotting notebook)\n",
    "omega_m = np.linspace(0.2,0.4,b)\n",
    "sigma_8 = 0.8989639361571576*omega_m + 0.5303108191528527\n",
    "\n",
    "S_8 = np.zeros(b)\n",
    "for i in range(b):\n",
    "    S_8[i] = sigma_8[i] * (omega_m[i]/0.3)**0.5329788249790618  "
   ]
  },
  {
   "cell_type": "code",
   "execution_count": 52,
   "metadata": {},
   "outputs": [],
   "source": [
    "# select columns from first clustering map and first lensing map - positions = 0,5 \n",
    "v_all_c1 = v_input_c[:,0:30]\n",
    "v_all_c2 = v_input_c[:,150:180]\n",
    "v_all_changing = np.hstack((v_all_c1,v_all_c2))"
   ]
  },
  {
   "cell_type": "code",
   "execution_count": 56,
   "metadata": {},
   "outputs": [
    {
     "name": "stdout",
     "output_type": "stream",
     "text": [
      "0.0015849383334117855\n"
     ]
    },
    {
     "data": {
      "image/png": "[encoded data removed]",
      "text/plain": [
       "<Figure size 432x288 with 1 Axes>"
      ]
     },
     "metadata": {
      "needs_background": "light"
     },
     "output_type": "display_data"
    }
   ],
   "source": [
    "# singular matrix workaround - do we only want positive covariance values or just not = 0?\n",
    "good = cov.diagonal() > 0\n",
    "cov2 = cov[good][:, good]\n",
    "\n",
    "# calculate the likelihood          \n",
    "L = np.zeros(b)\n",
    "\n",
    "try:\n",
    "    inv_cov = np.linalg.inv(cov)\n",
    "    for i in range(b):\n",
    "        L[i] = -0.5 * (v_all_changing[i] - v_all_mean) @ inv_cov @ (v_all_changing[i] - v_all_mean)\n",
    "except:\n",
    "    inv_cov2 = np.linalg.inv(cov2)\n",
    "    for i in range(b):\n",
    "        d = (v_all_changing[i] - v_all_mean)[good]\n",
    "        L[i] = -0.5 * d @ inv_cov2 @ d\n",
    "\n",
    "# fit a quadratic curve to L(S_8)\n",
    "coefficient = np.polyfit(S_8,L,2)\n",
    "constraining_power = sqrt(-1 / (2*coefficient[0]))\n",
    "print(constraining_power)\n",
    "\n",
    "poly = np.poly1d(coefficient)     \n",
    "new_x = np.linspace(0.5,1.1,20)\n",
    "new_y = poly(new_x)\n",
    "plt.plot(S_8, L, \"o\", new_x, new_y);"
   ]
  },
  {
   "cell_type": "code",
   "execution_count": 59,
   "metadata": {},
   "outputs": [],
   "source": [
    "# output array\n",
    "c = np.array((thr_ct,smoothing,nside,constraining_power))\n",
    "\n",
    "\n",
    "parent_path = os.path.join(output_path, 'Simplified')\n",
    "sub_path = os.path.join(parent_path, f't{thr_ct}_n{nside}_s{smoothing}')\n",
    "\n",
    "try:\n",
    "    os.mkdir(sub_path) \n",
    "except:\n",
    "    pass\n",
    "\n",
    "np.savetxt(os.path.join(sub_path, 'c.out'),c)\n",
    "np.savetxt(os.path.join(sub_path, 'V_all_fixed.out'),v_all_fixed)\n",
    "np.savetxt(os.path.join(sub_path, 'v_all_changing'),v_all_changing)"
   ]
  },
  {
   "cell_type": "code",
   "execution_count": null,
   "metadata": {},
   "outputs": [],
   "source": []
  }
 ],
 "metadata": {
  "kernelspec": {
   "display_name": "Python 3",
   "language": "python",
   "name": "python3"
  },
  "language_info": {
   "codemirror_mode": {
    "name": "ipython",
    "version": 3
   },
   "file_extension": ".py",
   "mimetype": "text/x-python",
   "name": "python",
   "nbconvert_exporter": "python",
   "pygments_lexer": "ipython3",
   "version": "3.7.6"
  }
 },
 "nbformat": 4,
 "nbformat_minor": 4
}
