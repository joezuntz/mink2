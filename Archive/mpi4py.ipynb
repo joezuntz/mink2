{
 "cells": [
  {
   "cell_type": "code",
   "execution_count": 17,
   "metadata": {},
   "outputs": [],
   "source": [
    "import numpy as np\n",
    "from mpi4py import MPI\n",
    "\n",
    "import pyccl\n",
    "import healpy as hp\n",
    "import numpy as np\n",
    "import matplotlib.pyplot as plt\n",
    "import math\n",
    "import os\n",
    "import time\n",
    "\n",
    "import sys\n",
    "sys.path.append(\"./simulation_code/\")\n",
    "from simulate_des_maps import *\n",
    "\n",
    "os.environ[\"PATH\"]='/home/ngrewal/flask/flask/bin:'+os.environ[\"PATH\"] "
   ]
  },
  {
   "cell_type": "code",
   "execution_count": 2,
   "metadata": {},
   "outputs": [],
   "source": [
    "x = np.linspace(1,100,100)\n",
    "\n",
    "def f(x):\n",
    "    return x**2"
   ]
  },
  {
   "cell_type": "code",
   "execution_count": 3,
   "metadata": {},
   "outputs": [
    {
     "data": {
      "text/plain": [
       "array([1.000e+00, 4.000e+00, 9.000e+00, 1.600e+01, 2.500e+01, 3.600e+01,\n",
       "       4.900e+01, 6.400e+01, 8.100e+01, 1.000e+02, 1.210e+02, 1.440e+02,\n",
       "       1.690e+02, 1.960e+02, 2.250e+02, 2.560e+02, 2.890e+02, 3.240e+02,\n",
       "       3.610e+02, 4.000e+02, 4.410e+02, 4.840e+02, 5.290e+02, 5.760e+02,\n",
       "       6.250e+02, 6.760e+02, 7.290e+02, 7.840e+02, 8.410e+02, 9.000e+02,\n",
       "       9.610e+02, 1.024e+03, 1.089e+03, 1.156e+03, 1.225e+03, 1.296e+03,\n",
       "       1.369e+03, 1.444e+03, 1.521e+03, 1.600e+03, 1.681e+03, 1.764e+03,\n",
       "       1.849e+03, 1.936e+03, 2.025e+03, 2.116e+03, 2.209e+03, 2.304e+03,\n",
       "       2.401e+03, 2.500e+03, 2.601e+03, 2.704e+03, 2.809e+03, 2.916e+03,\n",
       "       3.025e+03, 3.136e+03, 3.249e+03, 3.364e+03, 3.481e+03, 3.600e+03,\n",
       "       3.721e+03, 3.844e+03, 3.969e+03, 4.096e+03, 4.225e+03, 4.356e+03,\n",
       "       4.489e+03, 4.624e+03, 4.761e+03, 4.900e+03, 5.041e+03, 5.184e+03,\n",
       "       5.329e+03, 5.476e+03, 5.625e+03, 5.776e+03, 5.929e+03, 6.084e+03,\n",
       "       6.241e+03, 6.400e+03, 6.561e+03, 6.724e+03, 6.889e+03, 7.056e+03,\n",
       "       7.225e+03, 7.396e+03, 7.569e+03, 7.744e+03, 7.921e+03, 8.100e+03,\n",
       "       8.281e+03, 8.464e+03, 8.649e+03, 8.836e+03, 9.025e+03, 9.216e+03,\n",
       "       9.409e+03, 9.604e+03, 9.801e+03, 1.000e+04])"
      ]
     },
     "execution_count": 3,
     "metadata": {},
     "output_type": "execute_result"
    }
   ],
   "source": [
    "f(x)"
   ]
  },
  {
   "cell_type": "code",
   "execution_count": 7,
   "metadata": {},
   "outputs": [
    {
     "name": "stdout",
     "output_type": "stream",
     "text": [
      "0\n"
     ]
    }
   ],
   "source": [
    "comm = MPI.COMM_WORLD\n",
    "rank = comm.Get_rank()\n",
    "print(rank)"
   ]
  },
  {
   "cell_type": "code",
   "execution_count": 25,
   "metadata": {},
   "outputs": [],
   "source": [
    "omega_b = 0.048\n",
    "omega_m = 0.3\n",
    "h = 0.7\n",
    "n_s = 0.96\n",
    "sigma_8 = 0.8\n",
    "b1 = 1.42\n",
    "b2 = 1.65\n",
    "b3 = 1.60\n",
    "b4 = 1.92\n",
    "b5 = 2.00\n",
    "smoothing=20\n",
    "nside=256\n",
    "\n",
    "\n",
    "sim=2\n",
    "c_maps= np.zeros((sim,5,12*nside**2))\n",
    "l_maps = np.zeros((sim,4,12*nside**2))\n",
    "for i in range(sim):\n",
    "    c_maps[i],l_maps[i] = simulate_des_maps_bias(omega_b, omega_m, h, n_s, sigma_8, smoothing, nside, b1, b2, b3, b4, b5)"
   ]
  },
  {
   "cell_type": "code",
   "execution_count": 27,
   "metadata": {},
   "outputs": [
    {
     "data": {
      "text/plain": [
       "array([[ 2.53694807,  2.14923797,  1.84916363, ...,  4.10439071,\n",
       "         4.83691896,  4.11703194],\n",
       "       [ 3.33725321,  3.48307077,  3.27985238, ...,  6.16595428,\n",
       "         8.33684544,  6.86836761],\n",
       "       [ 8.43740292,  9.61560073, 10.97045113, ..., 11.71593026,\n",
       "        12.71132229,  9.45098642],\n",
       "       [ 3.9131057 ,  3.68060274,  4.4274911 , ...,  9.39276273,\n",
       "         7.6924461 ,  7.9859407 ],\n",
       "       [ 1.30621279,  0.96041564,  1.19037871, ...,  1.78216556,\n",
       "         1.16879503,  1.37263461]])"
      ]
     },
     "execution_count": 27,
     "metadata": {},
     "output_type": "execute_result"
    }
   ],
   "source": [
    "c_maps[0]"
   ]
  },
  {
   "cell_type": "code",
   "execution_count": 11,
   "metadata": {},
   "outputs": [
    {
     "data": {
      "text/plain": [
       "array([1, 1, 1, 1, 1, 1, 1, 1, 1, 1, 1, 1, 1, 1, 1, 1, 1, 1, 1, 1, 1, 1,\n",
       "       1, 1, 1, 1, 1, 1, 1, 1, 1, 1, 1, 1, 1, 1, 1, 1, 1, 1, 1, 1, 1, 1,\n",
       "       1, 1, 1, 1, 1, 1, 1, 1, 1, 1, 1, 1, 1, 1, 1, 1, 1, 1, 1, 1, 1, 1,\n",
       "       1, 1, 1, 1, 1, 1, 1, 1, 1, 1, 1, 1, 1, 1, 1, 1, 1, 1, 1, 1, 1, 1,\n",
       "       1, 1, 1, 1, 1, 1, 1, 1, 1, 1, 1, 1], dtype=int32)"
      ]
     },
     "execution_count": 11,
     "metadata": {},
     "output_type": "execute_result"
    }
   ],
   "source": [
    "np.zeros(100, dtype='i') + 1"
   ]
  },
  {
   "cell_type": "code",
   "execution_count": null,
   "metadata": {},
   "outputs": [],
   "source": [
    "# do in py files\n",
    "# command makes copies and can communicate w each other\n",
    "\n",
    "# 2 ways: mpi (each have own program, but slower, easier to debug) & threading (shared resources, faster, easier to mess up)\n",
    "# can use hybrid of two\n"
   ]
  }
 ],
 "metadata": {
  "kernelspec": {
   "display_name": "Python [conda env:anaconda3]",
   "language": "python",
   "name": "conda-env-anaconda3-py"
  },
  "language_info": {
   "codemirror_mode": {
    "name": "ipython",
    "version": 3
   },
   "file_extension": ".py",
   "mimetype": "text/x-python",
   "name": "python",
   "nbconvert_exporter": "python",
   "pygments_lexer": "ipython3",
   "version": "3.8.3"
  }
 },
 "nbformat": 4,
 "nbformat_minor": 4
}
