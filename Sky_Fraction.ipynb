{
 "cells": [
  {
   "cell_type": "code",
   "execution_count": null,
   "metadata": {},
   "outputs": [],
   "source": [
    "%pylab inline"
   ]
  },
  {
   "cell_type": "code",
   "execution_count": null,
   "metadata": {},
   "outputs": [],
   "source": [
    "import pyccl\n",
    "import healpy as hp\n",
    "import numpy as np\n",
    "import matplotlib.pyplot as plt\n",
    "import math\n",
    "import os\n",
    "\n",
    "import sys\n",
    "sys.path.append(\"./simulation_code/\")\n",
    "from simulate_des_maps import *\n",
    "\n",
    "from sky_frac import *\n",
    "from one_map import *"
   ]
  },
  {
   "cell_type": "markdown",
   "metadata": {},
   "source": [
    "## Code for Joe to run - start"
   ]
  },
  {
   "cell_type": "markdown",
   "metadata": {},
   "source": [
    "#### 2 Maps - Sky Fraction"
   ]
  },
  {
   "cell_type": "code",
   "execution_count": null,
   "metadata": {},
   "outputs": [],
   "source": [
    "thr_ct=10\n",
    "smoothing=20\n",
    "nside=512\n",
    "itr=100\n",
    "b=10\n",
    "\n",
    "N_p = 12*nside*nside"
   ]
  },
  {
   "cell_type": "code",
   "execution_count": null,
   "metadata": {},
   "outputs": [],
   "source": [
    "%time coefficient_f(thr_ct, smoothing, nside, itr, b, f=int(floor(0.01*N_p)))"
   ]
  },
  {
   "cell_type": "code",
   "execution_count": null,
   "metadata": {},
   "outputs": [],
   "source": [
    "%time coefficient_f(thr_ct, smoothing, nside, itr, b, f=int(floor(0.02*N_p)))"
   ]
  },
  {
   "cell_type": "code",
   "execution_count": null,
   "metadata": {},
   "outputs": [],
   "source": [
    "%time coefficient_f(thr_ct, smoothing, nside, itr, b, f=int(floor(0.03*N_p)))"
   ]
  },
  {
   "cell_type": "code",
   "execution_count": null,
   "metadata": {},
   "outputs": [],
   "source": [
    "%time coefficient_f(thr_ct, smoothing, nside, itr, b, f=int(floor(0.04*N_p)))"
   ]
  },
  {
   "cell_type": "code",
   "execution_count": null,
   "metadata": {},
   "outputs": [],
   "source": [
    "%time coefficient_f(thr_ct, smoothing, nside, itr, b, f=int(floor(0.05*N_p)))"
   ]
  },
  {
   "cell_type": "code",
   "execution_count": null,
   "metadata": {},
   "outputs": [],
   "source": [
    "%time coefficient_f(thr_ct, smoothing, nside, itr, b, f=int(floor(0.06*N_p)))"
   ]
  },
  {
   "cell_type": "code",
   "execution_count": null,
   "metadata": {},
   "outputs": [],
   "source": [
    "%time coefficient_f(thr_ct, smoothing, nside, itr, b,, f=int(floor(0.07*N_p)))"
   ]
  },
  {
   "cell_type": "code",
   "execution_count": null,
   "metadata": {},
   "outputs": [],
   "source": [
    "%time coefficient_f(thr_ct, smoothing, nside, itr, b, f=int(floor(0.08*N_p)))"
   ]
  },
  {
   "cell_type": "code",
   "execution_count": null,
   "metadata": {},
   "outputs": [],
   "source": [
    "%time coefficient_f(thr_ct, smoothing, nside, itr, b, f=int(floor(0.09*N_p)))"
   ]
  },
  {
   "cell_type": "markdown",
   "metadata": {},
   "source": [
    "#### 1 Map - nside"
   ]
  },
  {
   "cell_type": "code",
   "execution_count": null,
   "metadata": {},
   "outputs": [],
   "source": [
    "%time lensing(itr=100,thr_ct=10,nside=512,smoothing=20)"
   ]
  },
  {
   "cell_type": "code",
   "execution_count": null,
   "metadata": {},
   "outputs": [],
   "source": [
    "%time lensing(itr=100,thr_ct=10,nside=1024,smoothing=20)"
   ]
  },
  {
   "cell_type": "markdown",
   "metadata": {},
   "source": [
    "\n",
    "## stop\n",
    "\n",
    "---\n",
    "\n",
    "#### (already ran)"
   ]
  },
  {
   "cell_type": "code",
   "execution_count": null,
   "metadata": {},
   "outputs": [],
   "source": [
    "%time coefficient_f(thr_ct, smoothing, nside, itr=100, b=10, f=int(floor(0.1*N_p)))"
   ]
  },
  {
   "cell_type": "code",
   "execution_count": null,
   "metadata": {},
   "outputs": [],
   "source": [
    "%time coefficient_f(thr_ct, smoothing, nside, itr=100, b=10, f=int(floor(0.2*N_p)))"
   ]
  },
  {
   "cell_type": "code",
   "execution_count": null,
   "metadata": {},
   "outputs": [],
   "source": [
    "%time coefficient_f(thr_ct, smoothing, nside, itr=100, b=10, f=int(floor(0.3*N_p)))"
   ]
  },
  {
   "cell_type": "code",
   "execution_count": null,
   "metadata": {},
   "outputs": [],
   "source": [
    "%time coefficient_f(thr_ct, smoothing, nside, itr=100, b=10, f=int(floor(0.4*N_p)))"
   ]
  },
  {
   "cell_type": "code",
   "execution_count": null,
   "metadata": {},
   "outputs": [],
   "source": [
    "%time coefficient_f(thr_ct, smoothing, nside, itr=100, b=10, f=int(floor(0.5*N_p)))"
   ]
  },
  {
   "cell_type": "markdown",
   "metadata": {},
   "source": [
    "---\n",
    "\n",
    "## Individual Steps"
   ]
  },
  {
   "cell_type": "code",
   "execution_count": null,
   "metadata": {},
   "outputs": [],
   "source": [
    "## CALC MFs\n",
    "# calculate MFs for a single map\n",
    "    \n",
    "def calc_mf_f(m,thr_ct,f,is_clustering):\n",
    "\n",
    "    v_0 = np.zeros(thr_ct)\n",
    "    v_1 = np.zeros(thr_ct)\n",
    "    v_2 = np.zeros(thr_ct)\n",
    "\n",
    "    \n",
    "    # THIS NEEDS TO BE FULL SKY MAP\n",
    "    dm_dtheta, dm_dphi, d2m_dtheta2, d2m_dphi2, d2m_dtheta_dphi = map_derivatives(m)\n",
    "\n",
    "    std_dev = np.std(m) \n",
    "    \n",
    "    if is_clustering is True:\n",
    "        v = np.linspace(0,6*std_dev,thr_ct)              # clustering map range\n",
    "    else:\n",
    "        v = np.linspace(-3*std_dev, 3*std_dev,thr_ct)    # lensing map range\n",
    "\n",
    "    m_cut = m[:f]\n",
    "    #N = f\n",
    "    \n",
    "    v_0 = V_0(v, m_cut, f)\n",
    "    v_1,v_2 = V_12(v, m_cut, dm_dphi, dm_dtheta, d2m_dphi2, d2m_dtheta_dphi, d2m_dtheta2, f)\n",
    "    \n",
    "    return v,v_0,v_1,v_2\n"
   ]
  },
  {
   "cell_type": "code",
   "execution_count": null,
   "metadata": {},
   "outputs": [],
   "source": [
    "def calc_mf_2maps_f(clustering_maps,lensing_maps,thr_ct,N):\n",
    "\n",
    "    map_len=len(clustering_maps)+len(lensing_maps)\n",
    "\n",
    "    # find MFs for fixed parameter simulation   \n",
    "    v = np.zeros((map_len,thr_ct))\n",
    "    v0 = np.zeros((map_len,thr_ct))    \n",
    "    v1 = np.zeros((map_len,thr_ct))\n",
    "    v2 = np.zeros((map_len,thr_ct))\n",
    "\n",
    "    for i,m in enumerate(clustering_maps):\n",
    "        v[i], v0[i], v1[i], v2[i] = calc_mf(m, thr_ct, N, is_clustering=True)\n",
    "\n",
    "    for j,m in enumerate(lensing_maps):\n",
    "        v[j+i+1], v0[j+i+1], v1[j+i+1], v2[j+i+1] = calc_mf(m, thr_ct, N, is_clustering=False)   \n",
    "\n",
    "    return v,v0,v1,v2 "
   ]
  },
  {
   "cell_type": "code",
   "execution_count": null,
   "metadata": {},
   "outputs": [],
   "source": [
    "def coefficient_f(thr_ct, smoothing, nside, itr, b, f):\n",
    "\n",
    "    N = 12*nside*nside\n",
    "    map_len = 2                    # sum of the number of lensing and clustering redshift bins\n",
    "    array_len = map_len*thr_ct*3   # length of covariance array - multiply by 3 for 3 MFs\n",
    "\n",
    "    # Fixed map run with iteration count\n",
    "    v_all_fixed = np.zeros((itr,array_len)) \n",
    "    for i in range(itr):\n",
    "        print(\"Simulating maps for iteration \", i)\n",
    "        clustering_maps, lensing_maps = simulate_des_maps(0.3, 0.8, smoothing, nside, nmax=1)\n",
    "        print(\"Computing functionals for iteration\", i)\n",
    "        v_fixed, v0_fixed, v1_fixed, v2_fixed = calc_mf_2maps_f(clustering_maps,lensing_maps,thr_ct,f)\n",
    "        v_all_fixed[i] = np.concatenate((v0_fixed.flatten(),v1_fixed.flatten(),v2_fixed.flatten()))\n",
    "        print(i)\n",
    "    \n",
    "    # stack iteration fixed variable versions of V0,V1,V2\n",
    "    v_all_mean = np.zeros(array_len)\n",
    "    for i in range(array_len):\n",
    "        v_all_mean[i] = np.mean(v_all_fixed[:,i])\n",
    "        \n",
    "        \n",
    "    # likelihood perpendicular line points (get constants from plotting notebook)\n",
    "    omega_m = np.linspace(0.2,0.4,b)\n",
    "    sigma_8 = 0.8989639361571576*omega_m + 0.5303108191528527\n",
    "    \n",
    "    # calculate S_8\n",
    "    S_8 = sigma_8 * (omega_m/0.3)**0.5329788249790618   # exponent value found in plotting notebook\n",
    "\n",
    "\n",
    "    tic = time.perf_counter()\n",
    "    \n",
    "    # calculate MFs for each omega sigma pair along line\n",
    "    V_all = np.zeros((b,array_len))\n",
    "    c_map = np.zeros((b,len(clustering_maps),N)) \n",
    "    l_map = np.zeros((b,len(lensing_maps),N))\n",
    "\n",
    "    for i in range(b):\n",
    "        c_map[i], l_map[i] = simulate_des_maps(omega_m[i], sigma_8[i], smoothing, nside, nmax=1)\n",
    "        v, v0, v1, v2 = calc_mf_2maps_f(c_map[i],l_map[i],thr_ct,f)\n",
    "        V_all[i] = np.concatenate((v0.flatten(),v1.flatten(),v2.flatten()))\n",
    "        print(i)\n",
    "\n",
    "    toc = time.perf_counter()\n",
    "    print(round((toc - tic)/3600,2),'hrs')\n",
    "    \n",
    "    # covariance\n",
    "    cov = np.cov((v_all_fixed.transpose()))\n",
    "\n",
    "    # singular covariance matrix workaround\n",
    "    good = cov.diagonal() > 0\n",
    "    cov2 = cov[good][:, good]\n",
    "\n",
    "\n",
    "    # calculate the likelihood          \n",
    "    L = np.zeros(b)\n",
    "    N_ = itr-1           # number of realisations - 1\n",
    "    p = array_len        # number of data points\n",
    "    \n",
    "    try:\n",
    "        #inv_cov = np.linalg.inv(cov)\n",
    "        inv_cov = ((N_)/(N_ - p - 1)) * np.linalg.inv(cov)\n",
    "        for i in range(b):\n",
    "            L[i] = -0.5 * (V_all[i] - v_all_mean) @ inv_cov @ (V_all[i] - v_all_mean)\n",
    "    except:\n",
    "        #inv_cov2 = np.linalg.inv(cov2)\n",
    "        inv_cov2 = ((N_)/(N_ - p - 1)) * np.linalg.inv(cov2)\n",
    "        for i in range(b):\n",
    "            d = (V_all[i] - v_all_mean)[good]\n",
    "            L[i] = -0.5 * d @ inv_cov2 @ d\n",
    "            \n",
    "            \n",
    "    coefficient = np.polyfit(S_8,L,2)\n",
    "    constraining_power = np.sqrt(-1 / (2*coefficient[0]))\n",
    "    \n",
    "    # output array\n",
    "    c = np.array((thr_ct,smoothing,nside,constraining_power))\n",
    "    \n",
    "    \n",
    "    ## save data ##\n",
    "\n",
    "    # parent directory\n",
    "    output_path = os.path.join(os.getcwd(), '2_Maps_Output')\n",
    "\n",
    "    # save data in new subfolder\n",
    "    parent_path = os.path.join(output_path, 'Simplified')\n",
    "    sub_path = os.path.join(parent_path, f't{thr_ct}_n{nside}_s{smoothing}_f{f}')\n",
    "    \n",
    "\n",
    "    try:\n",
    "        os.mkdir(sub_path) \n",
    "    except:\n",
    "        pass\n",
    "\n",
    "    np.savetxt(os.path.join(sub_path, 'c.out'),c)\n",
    "    np.savetxt(os.path.join(sub_path, 'V_all_fixed.out'),v_all_fixed)\n",
    "    np.savetxt(os.path.join(sub_path, 'v_all_changing'),V_all)\n",
    "    \n",
    "    "
   ]
  },
  {
   "cell_type": "code",
   "execution_count": null,
   "metadata": {},
   "outputs": [],
   "source": []
  },
  {
   "cell_type": "markdown",
   "metadata": {},
   "source": [
    "#### 1 Map"
   ]
  },
  {
   "cell_type": "code",
   "execution_count": null,
   "metadata": {},
   "outputs": [],
   "source": [
    "#%time lensing_f(thr_ct, smoothing, nside, itr, b, f=int(floor(0.1*N_p))) \n",
    "#%time lensing_f(thr_ct, smoothing, nside, itr, b, f=int(floor(0.2*N_p))) \n",
    "#%time lensing_f(thr_ct, smoothing, nside, itr, b, f=int(floor(0.3*N_p))) "
   ]
  },
  {
   "cell_type": "code",
   "execution_count": null,
   "metadata": {},
   "outputs": [],
   "source": [
    "%time lensing_f(thr_ct, smoothing, nside, itr, b, f=int(floor(0.4*N_p)))"
   ]
  },
  {
   "cell_type": "code",
   "execution_count": null,
   "metadata": {},
   "outputs": [],
   "source": [
    "%time lensing_f(thr_ct, smoothing, nside, itr, b, f=int(floor(0.5*N_p)))"
   ]
  },
  {
   "cell_type": "code",
   "execution_count": null,
   "metadata": {},
   "outputs": [],
   "source": []
  }
 ],
 "metadata": {
  "kernelspec": {
   "display_name": "Python 3",
   "language": "python",
   "name": "python3"
  },
  "language_info": {
   "codemirror_mode": {
    "name": "ipython",
    "version": 3
   },
   "file_extension": ".py",
   "mimetype": "text/x-python",
   "name": "python",
   "nbconvert_exporter": "python",
   "pygments_lexer": "ipython3",
   "version": "3.7.6"
  }
 },
 "nbformat": 4,
 "nbformat_minor": 4
}
